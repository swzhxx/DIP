{
 "metadata": {
  "language_info": {
   "codemirror_mode": {
    "name": "ipython",
    "version": 3
   },
   "file_extension": ".py",
   "mimetype": "text/x-python",
   "name": "python",
   "nbconvert_exporter": "python",
   "pygments_lexer": "ipython3",
   "version": 3
  },
  "orig_nbformat": 2
 },
 "nbformat": 4,
 "nbformat_minor": 2,
 "cells": [
  {
   "source": [
    "# 最优(贝叶斯)统计分类器\n",
    "\n",
    "## 贝叶斯分类器的推导 \n",
    "\n",
    "模式向量$x$来自类$c_i$的概率用$p(c_i / x)$表示。如果模式分类器确定$x$来自类$c_j$,而它实际上来自类$c_i$，那么会导致一个损失，我们用L_{ij}来表示这个损失。由于模式$x$可能属于$N_c$个可能的类之一，因此将$x$赋予类$c_j$导致的平均损失是：\n",
    "$$\n",
    "    r_j(x) = \\sum_{k = 1}^{Nc}L_{kj}p(c_k / x)\n",
    "$$\n",
    "\n",
    "在决策理论术语中，量$r_j(x)$称为条件平均风险或损失。\n",
    "\n",
    "由贝叶斯规则可知$p(a/b) = [p(a)p(b/a)]/p(b)$,因此可将式子写为\n",
    "$$\n",
    "    r_j(x) = \\frac{1}{k=1}L_{kj}(x / c_k)P(c_k)\n",
    "$$\n",
    "\n",
    "式中，$p(x / c_k)$是模式来自$c_k$的概率密度函数(PDF)，而$P(c_k)$是类$c_k$出现的概率。因为 $1/p(x)$对所有$r_j(x) , j = 1,2,3...N_c$都为正且是共有的。因此可删除，而不影响这些函数从最小值到最大值的相对顺序。，于是平均损失公式简化为\n",
    "$$\n",
    "r_j(x) = L_{kj}(x / c_k)P(c_k)\n",
    "$$\n",
    "\n",
    "给定一个未知模式，这个分类器有$N_c$个可能的类供我们选择。如果分类器为每个模式$x$计算$r_1(x),r_2(x),r_3(x) ....$,并将这个模式赋予具有最小损失的类，那么相对于所有决策的总平均损失将是最小的。最小化总平均损失的分类器就叫*贝叶斯*分类器。\n",
    "\n",
    "如果$r_i(x) < r_j(x) , j = 1,2,...,N_c , i \\neq j$ , 那么这个分类器将一个未知模式$x$赋予类$c_i$。换句话说，如果对所有$j , j \\neq i$ 有:\n",
    "\n",
    "$$\n",
    "    \\sum_{k=1}^{N_c}L_{kj}p(x / c_k)P(c_k) < \\sum_{q=1}{N_c}L_{qj}p(x / c_q)P(c_q)\n",
    "$$\n",
    "\n",
    "正确的决策的损失通常被赋值为0，而不正确的决策损失通常被赋值为1，于是损失函数\n",
    "$$\n",
    "    L_{ij} = 1 - \\eta_{ij}\n",
    "$$"
   ],
   "cell_type": "markdown",
   "metadata": {}
  }
 ]
}