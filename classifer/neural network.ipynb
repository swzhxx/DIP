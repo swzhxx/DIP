{
 "metadata": {
  "language_info": {
   "codemirror_mode": {
    "name": "ipython",
    "version": 3
   },
   "file_extension": ".py",
   "mimetype": "text/x-python",
   "name": "python",
   "nbconvert_exporter": "python",
   "pygments_lexer": "ipython3",
   "version": "3.8.5"
  },
  "orig_nbformat": 2,
  "kernelspec": {
   "name": "python3",
   "display_name": "Python 3",
   "language": "python"
  }
 },
 "nbformat": 4,
 "nbformat_minor": 2,
 "cells": [
  {
   "source": [
    "# 神经网络(Neual Network)"
   ],
   "cell_type": "markdown",
   "metadata": {}
  },
  {
   "cell_type": "code",
   "execution_count": 140,
   "metadata": {},
   "outputs": [],
   "source": [
    "import  tensorflow as tf \n",
    "import numpy as np \n",
    "import matplotlib.pyplot as plt \n",
    "import scipy.optimize as  opt\n",
    "import scipy.io as sio"
   ]
  },
  {
   "cell_type": "code",
   "execution_count": 141,
   "metadata": {},
   "outputs": [],
   "source": [
    "def load_data(path, transpose=True):\n",
    "    data = sio.loadmat(path)\n",
    "    y = data.get('y')  # (5000,1)\n",
    "    y = y.reshape(y.shape[0])  # make it back to column vector\n",
    "\n",
    "    X = data.get('X')  # (5000,400)\n",
    "\n",
    "    if transpose:\n",
    "        # for this dataset, you need a transpose to get the orientation right\n",
    "        X = np.array([im.reshape((20, 20)).T for im in X])\n",
    "\n",
    "        # and I flat the image again to preserve the vector presentation\n",
    "        X = np.array([im.reshape(400) for im in X])\n",
    "\n",
    "    return X, y"
   ]
  },
  {
   "cell_type": "code",
   "execution_count": 142,
   "metadata": {},
   "outputs": [],
   "source": [
    "(train_images, train_labels) = load_data('./ex3data1.mat')"
   ]
  },
  {
   "cell_type": "code",
   "execution_count": 143,
   "metadata": {},
   "outputs": [
    {
     "output_type": "stream",
     "name": "stdout",
     "text": [
      "这是数字: 5\n"
     ]
    },
    {
     "output_type": "display_data",
     "data": {
      "text/plain": "<Figure size 432x288 with 1 Axes>",
      "image/svg+xml": "<?xml version=\"1.0\" encoding=\"utf-8\" standalone=\"no\"?>\n<!DOCTYPE svg PUBLIC \"-//W3C//DTD SVG 1.1//EN\"\n  \"http://www.w3.org/Graphics/SVG/1.1/DTD/svg11.dtd\">\n<svg height=\"248.518125pt\" version=\"1.1\" viewBox=\"0 0 261.105625 248.518125\" width=\"261.105625pt\" xmlns=\"http://www.w3.org/2000/svg\" xmlns:xlink=\"http://www.w3.org/1999/xlink\">\n <metadata>\n  <rdf:RDF xmlns:cc=\"http://creativecommons.org/ns#\" xmlns:dc=\"http://purl.org/dc/elements/1.1/\" xmlns:rdf=\"http://www.w3.org/1999/02/22-rdf-syntax-ns#\">\n   <cc:Work>\n    <dc:type rdf:resource=\"http://purl.org/dc/dcmitype/StillImage\"/>\n    <dc:date>2021-06-13T09:59:03.930167</dc:date>\n    <dc:format>image/svg+xml</dc:format>\n    <dc:creator>\n     <cc:Agent>\n      <dc:title>Matplotlib v3.4.1, https://matplotlib.org/</dc:title>\n     </cc:Agent>\n    </dc:creator>\n   </cc:Work>\n  </rdf:RDF>\n </metadata>\n <defs>\n  <style type=\"text/css\">*{stroke-linecap:butt;stroke-linejoin:round;}</style>\n </defs>\n <g id=\"figure_1\">\n  <g id=\"patch_1\">\n   <path d=\"M 0 248.518125 \nL 261.105625 248.518125 \nL 261.105625 0 \nL 0 0 \nz\n\" style=\"fill:none;\"/>\n  </g>\n  <g id=\"axes_1\">\n   <g id=\"patch_2\">\n    <path d=\"M 36.465625 224.64 \nL 253.905625 224.64 \nL 253.905625 7.2 \nL 36.465625 7.2 \nz\n\" style=\"fill:#ffffff;\"/>\n   </g>\n   <g clip-path=\"url(#p3cfd8ecb71)\">\n    <image height=\"218\" id=\"image67db2eeb92\" transform=\"scale(1 -1)translate(0 -218)\" width=\"218\" x=\"36.465625\" xlink:href=\"data:image/png;base64,\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\" y=\"-6.64\"/>\n   </g>\n   <g id=\"matplotlib.axis_1\">\n    <g id=\"xtick_1\">\n     <g id=\"line2d_1\">\n      <defs>\n       <path d=\"M 0 0 \nL 0 3.5 \n\" id=\"md6992d48e3\" style=\"stroke:#000000;stroke-width:0.8;\"/>\n      </defs>\n      <g>\n       <use style=\"stroke:#000000;stroke-width:0.8;\" x=\"41.901625\" xlink:href=\"#md6992d48e3\" y=\"224.64\"/>\n      </g>\n     </g>\n     <g id=\"text_1\">\n      <!-- 0 -->\n      <g transform=\"translate(38.720375 239.238438)scale(0.1 -0.1)\">\n       <defs>\n        <path d=\"M 2034 4250 \nQ 1547 4250 1301 3770 \nQ 1056 3291 1056 2328 \nQ 1056 1369 1301 889 \nQ 1547 409 2034 409 \nQ 2525 409 2770 889 \nQ 3016 1369 3016 2328 \nQ 3016 3291 2770 3770 \nQ 2525 4250 2034 4250 \nz\nM 2034 4750 \nQ 2819 4750 3233 4129 \nQ 3647 3509 3647 2328 \nQ 3647 1150 3233 529 \nQ 2819 -91 2034 -91 \nQ 1250 -91 836 529 \nQ 422 1150 422 2328 \nQ 422 3509 836 4129 \nQ 1250 4750 2034 4750 \nz\n\" id=\"DejaVuSans-30\" transform=\"scale(0.015625)\"/>\n       </defs>\n       <use xlink:href=\"#DejaVuSans-30\"/>\n      </g>\n     </g>\n    </g>\n    <g id=\"xtick_2\">\n     <g id=\"line2d_2\">\n      <g>\n       <use style=\"stroke:#000000;stroke-width:0.8;\" x=\"96.261625\" xlink:href=\"#md6992d48e3\" y=\"224.64\"/>\n      </g>\n     </g>\n     <g id=\"text_2\">\n      <!-- 5 -->\n      <g transform=\"translate(93.080375 239.238438)scale(0.1 -0.1)\">\n       <defs>\n        <path d=\"M 691 4666 \nL 3169 4666 \nL 3169 4134 \nL 1269 4134 \nL 1269 2991 \nQ 1406 3038 1543 3061 \nQ 1681 3084 1819 3084 \nQ 2600 3084 3056 2656 \nQ 3513 2228 3513 1497 \nQ 3513 744 3044 326 \nQ 2575 -91 1722 -91 \nQ 1428 -91 1123 -41 \nQ 819 9 494 109 \nL 494 744 \nQ 775 591 1075 516 \nQ 1375 441 1709 441 \nQ 2250 441 2565 725 \nQ 2881 1009 2881 1497 \nQ 2881 1984 2565 2268 \nQ 2250 2553 1709 2553 \nQ 1456 2553 1204 2497 \nQ 953 2441 691 2322 \nL 691 4666 \nz\n\" id=\"DejaVuSans-35\" transform=\"scale(0.015625)\"/>\n       </defs>\n       <use xlink:href=\"#DejaVuSans-35\"/>\n      </g>\n     </g>\n    </g>\n    <g id=\"xtick_3\">\n     <g id=\"line2d_3\">\n      <g>\n       <use style=\"stroke:#000000;stroke-width:0.8;\" x=\"150.621625\" xlink:href=\"#md6992d48e3\" y=\"224.64\"/>\n      </g>\n     </g>\n     <g id=\"text_3\">\n      <!-- 10 -->\n      <g transform=\"translate(144.259125 239.238438)scale(0.1 -0.1)\">\n       <defs>\n        <path d=\"M 794 531 \nL 1825 531 \nL 1825 4091 \nL 703 3866 \nL 703 4441 \nL 1819 4666 \nL 2450 4666 \nL 2450 531 \nL 3481 531 \nL 3481 0 \nL 794 0 \nL 794 531 \nz\n\" id=\"DejaVuSans-31\" transform=\"scale(0.015625)\"/>\n       </defs>\n       <use xlink:href=\"#DejaVuSans-31\"/>\n       <use x=\"63.623047\" xlink:href=\"#DejaVuSans-30\"/>\n      </g>\n     </g>\n    </g>\n    <g id=\"xtick_4\">\n     <g id=\"line2d_4\">\n      <g>\n       <use style=\"stroke:#000000;stroke-width:0.8;\" x=\"204.981625\" xlink:href=\"#md6992d48e3\" y=\"224.64\"/>\n      </g>\n     </g>\n     <g id=\"text_4\">\n      <!-- 15 -->\n      <g transform=\"translate(198.619125 239.238438)scale(0.1 -0.1)\">\n       <use xlink:href=\"#DejaVuSans-31\"/>\n       <use x=\"63.623047\" xlink:href=\"#DejaVuSans-35\"/>\n      </g>\n     </g>\n    </g>\n   </g>\n   <g id=\"matplotlib.axis_2\">\n    <g id=\"ytick_1\">\n     <g id=\"line2d_5\">\n      <defs>\n       <path d=\"M 0 0 \nL -3.5 0 \n\" id=\"m1d2a0c5c99\" style=\"stroke:#000000;stroke-width:0.8;\"/>\n      </defs>\n      <g>\n       <use style=\"stroke:#000000;stroke-width:0.8;\" x=\"36.465625\" xlink:href=\"#m1d2a0c5c99\" y=\"12.636\"/>\n      </g>\n     </g>\n     <g id=\"text_5\">\n      <!-- 0.0 -->\n      <g transform=\"translate(13.5625 16.435219)scale(0.1 -0.1)\">\n       <defs>\n        <path d=\"M 684 794 \nL 1344 794 \nL 1344 0 \nL 684 0 \nL 684 794 \nz\n\" id=\"DejaVuSans-2e\" transform=\"scale(0.015625)\"/>\n       </defs>\n       <use xlink:href=\"#DejaVuSans-30\"/>\n       <use x=\"63.623047\" xlink:href=\"#DejaVuSans-2e\"/>\n       <use x=\"95.410156\" xlink:href=\"#DejaVuSans-30\"/>\n      </g>\n     </g>\n    </g>\n    <g id=\"ytick_2\">\n     <g id=\"line2d_6\">\n      <g>\n       <use style=\"stroke:#000000;stroke-width:0.8;\" x=\"36.465625\" xlink:href=\"#m1d2a0c5c99\" y=\"39.816\"/>\n      </g>\n     </g>\n     <g id=\"text_6\">\n      <!-- 2.5 -->\n      <g transform=\"translate(13.5625 43.615219)scale(0.1 -0.1)\">\n       <defs>\n        <path d=\"M 1228 531 \nL 3431 531 \nL 3431 0 \nL 469 0 \nL 469 531 \nQ 828 903 1448 1529 \nQ 2069 2156 2228 2338 \nQ 2531 2678 2651 2914 \nQ 2772 3150 2772 3378 \nQ 2772 3750 2511 3984 \nQ 2250 4219 1831 4219 \nQ 1534 4219 1204 4116 \nQ 875 4013 500 3803 \nL 500 4441 \nQ 881 4594 1212 4672 \nQ 1544 4750 1819 4750 \nQ 2544 4750 2975 4387 \nQ 3406 4025 3406 3419 \nQ 3406 3131 3298 2873 \nQ 3191 2616 2906 2266 \nQ 2828 2175 2409 1742 \nQ 1991 1309 1228 531 \nz\n\" id=\"DejaVuSans-32\" transform=\"scale(0.015625)\"/>\n       </defs>\n       <use xlink:href=\"#DejaVuSans-32\"/>\n       <use x=\"63.623047\" xlink:href=\"#DejaVuSans-2e\"/>\n       <use x=\"95.410156\" xlink:href=\"#DejaVuSans-35\"/>\n      </g>\n     </g>\n    </g>\n    <g id=\"ytick_3\">\n     <g id=\"line2d_7\">\n      <g>\n       <use style=\"stroke:#000000;stroke-width:0.8;\" x=\"36.465625\" xlink:href=\"#m1d2a0c5c99\" y=\"66.996\"/>\n      </g>\n     </g>\n     <g id=\"text_7\">\n      <!-- 5.0 -->\n      <g transform=\"translate(13.5625 70.795219)scale(0.1 -0.1)\">\n       <use xlink:href=\"#DejaVuSans-35\"/>\n       <use x=\"63.623047\" xlink:href=\"#DejaVuSans-2e\"/>\n       <use x=\"95.410156\" xlink:href=\"#DejaVuSans-30\"/>\n      </g>\n     </g>\n    </g>\n    <g id=\"ytick_4\">\n     <g id=\"line2d_8\">\n      <g>\n       <use style=\"stroke:#000000;stroke-width:0.8;\" x=\"36.465625\" xlink:href=\"#m1d2a0c5c99\" y=\"94.176\"/>\n      </g>\n     </g>\n     <g id=\"text_8\">\n      <!-- 7.5 -->\n      <g transform=\"translate(13.5625 97.975219)scale(0.1 -0.1)\">\n       <defs>\n        <path d=\"M 525 4666 \nL 3525 4666 \nL 3525 4397 \nL 1831 0 \nL 1172 0 \nL 2766 4134 \nL 525 4134 \nL 525 4666 \nz\n\" id=\"DejaVuSans-37\" transform=\"scale(0.015625)\"/>\n       </defs>\n       <use xlink:href=\"#DejaVuSans-37\"/>\n       <use x=\"63.623047\" xlink:href=\"#DejaVuSans-2e\"/>\n       <use x=\"95.410156\" xlink:href=\"#DejaVuSans-35\"/>\n      </g>\n     </g>\n    </g>\n    <g id=\"ytick_5\">\n     <g id=\"line2d_9\">\n      <g>\n       <use style=\"stroke:#000000;stroke-width:0.8;\" x=\"36.465625\" xlink:href=\"#m1d2a0c5c99\" y=\"121.356\"/>\n      </g>\n     </g>\n     <g id=\"text_9\">\n      <!-- 10.0 -->\n      <g transform=\"translate(7.2 125.155219)scale(0.1 -0.1)\">\n       <use xlink:href=\"#DejaVuSans-31\"/>\n       <use x=\"63.623047\" xlink:href=\"#DejaVuSans-30\"/>\n       <use x=\"127.246094\" xlink:href=\"#DejaVuSans-2e\"/>\n       <use x=\"159.033203\" xlink:href=\"#DejaVuSans-30\"/>\n      </g>\n     </g>\n    </g>\n    <g id=\"ytick_6\">\n     <g id=\"line2d_10\">\n      <g>\n       <use style=\"stroke:#000000;stroke-width:0.8;\" x=\"36.465625\" xlink:href=\"#m1d2a0c5c99\" y=\"148.536\"/>\n      </g>\n     </g>\n     <g id=\"text_10\">\n      <!-- 12.5 -->\n      <g transform=\"translate(7.2 152.335219)scale(0.1 -0.1)\">\n       <use xlink:href=\"#DejaVuSans-31\"/>\n       <use x=\"63.623047\" xlink:href=\"#DejaVuSans-32\"/>\n       <use x=\"127.246094\" xlink:href=\"#DejaVuSans-2e\"/>\n       <use x=\"159.033203\" xlink:href=\"#DejaVuSans-35\"/>\n      </g>\n     </g>\n    </g>\n    <g id=\"ytick_7\">\n     <g id=\"line2d_11\">\n      <g>\n       <use style=\"stroke:#000000;stroke-width:0.8;\" x=\"36.465625\" xlink:href=\"#m1d2a0c5c99\" y=\"175.716\"/>\n      </g>\n     </g>\n     <g id=\"text_11\">\n      <!-- 15.0 -->\n      <g transform=\"translate(7.2 179.515219)scale(0.1 -0.1)\">\n       <use xlink:href=\"#DejaVuSans-31\"/>\n       <use x=\"63.623047\" xlink:href=\"#DejaVuSans-35\"/>\n       <use x=\"127.246094\" xlink:href=\"#DejaVuSans-2e\"/>\n       <use x=\"159.033203\" xlink:href=\"#DejaVuSans-30\"/>\n      </g>\n     </g>\n    </g>\n    <g id=\"ytick_8\">\n     <g id=\"line2d_12\">\n      <g>\n       <use style=\"stroke:#000000;stroke-width:0.8;\" x=\"36.465625\" xlink:href=\"#m1d2a0c5c99\" y=\"202.896\"/>\n      </g>\n     </g>\n     <g id=\"text_12\">\n      <!-- 17.5 -->\n      <g transform=\"translate(7.2 206.695219)scale(0.1 -0.1)\">\n       <use xlink:href=\"#DejaVuSans-31\"/>\n       <use x=\"63.623047\" xlink:href=\"#DejaVuSans-37\"/>\n       <use x=\"127.246094\" xlink:href=\"#DejaVuSans-2e\"/>\n       <use x=\"159.033203\" xlink:href=\"#DejaVuSans-35\"/>\n      </g>\n     </g>\n    </g>\n   </g>\n   <g id=\"patch_3\">\n    <path d=\"M 36.465625 224.64 \nL 36.465625 7.2 \n\" style=\"fill:none;stroke:#000000;stroke-linecap:square;stroke-linejoin:miter;stroke-width:0.8;\"/>\n   </g>\n   <g id=\"patch_4\">\n    <path d=\"M 253.905625 224.64 \nL 253.905625 7.2 \n\" style=\"fill:none;stroke:#000000;stroke-linecap:square;stroke-linejoin:miter;stroke-width:0.8;\"/>\n   </g>\n   <g id=\"patch_5\">\n    <path d=\"M 36.465625 224.64 \nL 253.905625 224.64 \n\" style=\"fill:none;stroke:#000000;stroke-linecap:square;stroke-linejoin:miter;stroke-width:0.8;\"/>\n   </g>\n   <g id=\"patch_6\">\n    <path d=\"M 36.465625 7.2 \nL 253.905625 7.2 \n\" style=\"fill:none;stroke:#000000;stroke-linecap:square;stroke-linejoin:miter;stroke-width:0.8;\"/>\n   </g>\n  </g>\n </g>\n <defs>\n  <clipPath id=\"p3cfd8ecb71\">\n   <rect height=\"217.44\" width=\"217.44\" x=\"36.465625\" y=\"7.2\"/>\n  </clipPath>\n </defs>\n</svg>\n",
      "image/png": "[encoded data removed]"
     },
     "metadata": {
      "needs_background": "light"
     }
    }
   ],
   "source": [
    "pick_one = np.random.randint( 0 , 5000) \n",
    "plt.imshow(train_images[pick_one].reshape((20,20)), \"gray\")\n",
    "print(\"这是数字:\" , train_labels[pick_one])"
   ]
  },
  {
   "source": [
    "准备数据,为每个样本数据添加一个偏置层 $\\theta_0$\n"
   ],
   "cell_type": "markdown",
   "metadata": {}
  },
  {
   "cell_type": "code",
   "execution_count": 144,
   "metadata": {},
   "outputs": [
    {
     "output_type": "execute_result",
     "data": {
      "text/plain": [
       "(5000, 401)"
      ]
     },
     "metadata": {},
     "execution_count": 144
    }
   ],
   "source": [
    "X = np.insert(train_images , 0 ,values = np.ones(train_images.shape[0]) , axis = 1)\n",
    "X.shape"
   ]
  },
  {
   "source": [
    "向量化标签"
   ],
   "cell_type": "markdown",
   "metadata": {}
  },
  {
   "cell_type": "code",
   "execution_count": 145,
   "metadata": {},
   "outputs": [
    {
     "output_type": "execute_result",
     "data": {
      "text/plain": [
       "(10, 5000)"
      ]
     },
     "metadata": {},
     "execution_count": 145
    }
   ],
   "source": [
    "# y have 10 categories here. 1..10, they represent digit 0 as category 10 because matlab index start at 1\n",
    "# I'll ditit 0, index 0 again\n",
    "y_matrix = []\n",
    "\n",
    "for k in range(1, 11):\n",
    "    y_matrix.append((train_labels == k).astype(int))    # 见配图 \"向量化标签.png\"\n",
    "\n",
    "# last one is k==10, it's digit 0, bring it to the first position，最后一列k=10，都是0，把最后一列放到第一列\n",
    "y_matrix = [y_matrix[-1]] + y_matrix[:-1]\n",
    "y = np.array(y_matrix)\n",
    "\n",
    "y.shape\n",
    "\n",
    "# 扩展 5000*1 到 5000*10\n",
    "#     比如 y=10 -> [0, 0, 0, 0, 0, 0, 0, 0, 0, 1]: ndarray\n",
    "#     \"\"\""
   ]
  },
  {
   "source": [
    "# 逻辑回归(Logistic regression)"
   ],
   "cell_type": "markdown",
   "metadata": {}
  },
  {
   "source": [
    "激活函数:sigmoid \n",
    "$$\n",
    "    \\sigma (z) = \\frac{1}{1+e^(-z)}\n",
    "$$"
   ],
   "cell_type": "markdown",
   "metadata": {}
  },
  {
   "cell_type": "code",
   "execution_count": 146,
   "metadata": {},
   "outputs": [],
   "source": [
    "def sigmoid(z):\n",
    "    return 1 / (1 + np.exp(-z))"
   ]
  },
  {
   "source": [
    "损失函数:\n",
    "$\n",
    "    J(\\theta) = \\frac{1}{m}\\sum_{i = 1}^m[-y^{i}log(h_{\\theta}(x^{(i)})) - (1 - y^{(i)})log( 1 - h_{\\theta}(x^{(i)}))]\n",
    "$"
   ],
   "cell_type": "markdown",
   "metadata": {}
  },
  {
   "cell_type": "code",
   "execution_count": 147,
   "metadata": {},
   "outputs": [],
   "source": [
    "def cost (theta, X , y):\n",
    "    return np.mean(-y * np.log(sigmoid(X @ theta)) - ( 1 - y) * np.log(1- sigmoid(X @ theta))) "
   ]
  },
  {
   "cell_type": "code",
   "execution_count": 148,
   "metadata": {},
   "outputs": [],
   "source": [
    "def regularized_cost(theta, X ,y , lamda = 1):\n",
    "    theta_j1_to_n = theta[1:]\n",
    "    regulaized_term = lamda / (2 * len(X)) * np.sum( theta_j1_to_n **2)\n",
    "    return cost(theta , X , y) + regulaized_term"
   ]
  },
  {
   "source": [
    "梯度 \n",
    "$$\n",
    "\\frac{\\partial J}{\\partial \\theta_j} = \\frac{1}{m}\\sum_{i=1}^{m}((h_{\\theta}(x^{(i)})- y^{(i)})x_j^{(i)} )\n",
    "$$"
   ],
   "cell_type": "markdown",
   "metadata": {}
  },
  {
   "cell_type": "code",
   "execution_count": 149,
   "metadata": {},
   "outputs": [],
   "source": [
    "def gradient(theta , X , y) : \n",
    "    return (1 / len(X)) * X.T @ (sigmoid(X @ theta) - y)    "
   ]
  },
  {
   "cell_type": "code",
   "execution_count": 150,
   "metadata": {},
   "outputs": [],
   "source": [
    "def regularized_gradient(theta, X , y , lamda = 1) : \n",
    "    theta_j1_to_n = theta[1:]\n",
    "    regularized_theta = (1/len(X)) * theta_j1_to_n \n",
    "    regularized_term = np.concatenate([np.array([0]) , regularized_theta])\n",
    "    return gradient(theta, X , y) + regularized_term "
   ]
  },
  {
   "cell_type": "code",
   "execution_count": 151,
   "metadata": {},
   "outputs": [],
   "source": [
    "def logistic_regression(X , y , l = 1):\n",
    "    theta = np.zeros(X.shape[1])\n",
    "    res = opt.minimize(fun = regularized_cost , x0 = theta , args=(X,y,l),method=\"TNC\" , jac=regularized_gradient , options={'disp':True})\n",
    "    final_theta = res.x \n",
    "    return final_theta"
   ]
  },
  {
   "cell_type": "code",
   "execution_count": 152,
   "metadata": {},
   "outputs": [],
   "source": [
    "def predict(x , theta):\n",
    "    prob = sigmoid(x @ theta)\n",
    "    return (prob >= 0.5).astype(int)"
   ]
  },
  {
   "cell_type": "code",
   "execution_count": 153,
   "metadata": {},
   "outputs": [
    {
     "output_type": "stream",
     "name": "stdout",
     "text": [
      "(10, 401)\n"
     ]
    }
   ],
   "source": [
    "# Trainning\n",
    "\n",
    "k_theta = np.array([logistic_regression(X , y[k]) for k in range(10)])\n",
    "print(k_theta.shape)"
   ]
  },
  {
   "cell_type": "code",
   "execution_count": 154,
   "metadata": {},
   "outputs": [
    {
     "output_type": "stream",
     "name": "stdout",
     "text": [
      "(5000, 401) (401, 10) (5000, 10)\n"
     ]
    }
   ],
   "source": [
    "# 进行预测\n",
    "prob_matrix = sigmoid( X @ k_theta.T)\n",
    "print(X.shape , k_theta.T.shape , prob_matrix.shape)\n",
    "y_pred = np.argmax(prob_matrix, axis=1)#返回沿轴axis最大值的索引，axis=1代表行"
   ]
  },
  {
   "cell_type": "code",
   "execution_count": 155,
   "metadata": {},
   "outputs": [],
   "source": [
    "y_answer = train_labels.copy()\n",
    "y_answer[y_answer==10] = 0"
   ]
  },
  {
   "cell_type": "code",
   "execution_count": 156,
   "metadata": {},
   "outputs": [
    {
     "output_type": "stream",
     "name": "stdout",
     "text": [
      "              precision    recall  f1-score   support\n\n           0       0.97      0.99      0.98       500\n           1       0.95      0.99      0.97       500\n           2       0.95      0.92      0.93       500\n           3       0.95      0.91      0.93       500\n           4       0.95      0.95      0.95       500\n           5       0.92      0.92      0.92       500\n           6       0.97      0.98      0.97       500\n           7       0.95      0.95      0.95       500\n           8       0.93      0.92      0.92       500\n           9       0.92      0.92      0.92       500\n\n    accuracy                           0.94      5000\n   macro avg       0.94      0.94      0.94      5000\nweighted avg       0.94      0.94      0.94      5000\n\n"
     ]
    }
   ],
   "source": [
    "from sklearn.metrics import classification_report\n",
    "print(classification_report(y_answer , y_pred))"
   ]
  },
  {
   "source": [
    "# 神经网络模型图示\n",
    "\n",
    "<img style=\"float: left;\" src=\"./nn_model.png\">"
   ],
   "cell_type": "markdown",
   "metadata": {}
  },
  {
   "source": [
    "# 前馈预测(feed forward prediction)"
   ],
   "cell_type": "markdown",
   "metadata": {}
  },
  {
   "cell_type": "code",
   "execution_count": 157,
   "metadata": {},
   "outputs": [
    {
     "output_type": "execute_result",
     "data": {
      "text/plain": [
       "((25, 401), (10, 26))"
      ]
     },
     "metadata": {},
     "execution_count": 157
    }
   ],
   "source": [
    "def load_weight(path):\n",
    "    data = sio.loadmat(path)\n",
    "    return data['Theta1'], data['Theta2']\n",
    "theta1 , theta2 = load_weight('ex3weights.mat')\n",
    "theta1.shape , theta2.shape"
   ]
  },
  {
   "cell_type": "code",
   "execution_count": 158,
   "metadata": {},
   "outputs": [
    {
     "output_type": "execute_result",
     "data": {
      "text/plain": [
       "((5000, 401), (5000,))"
      ]
     },
     "metadata": {},
     "execution_count": 158
    }
   ],
   "source": [
    "train_images , train_labels = load_data(\"ex3data1.mat\"  ,transpose=False)\n",
    "X  = np.insert(train_images , 0 , values = np.ones(X.shape[0]) , axis = 1)\n",
    "y = train_labels \n",
    "X.shape , y.shape"
   ]
  },
  {
   "cell_type": "code",
   "execution_count": 159,
   "metadata": {},
   "outputs": [],
   "source": [
    "a1 = X "
   ]
  },
  {
   "cell_type": "code",
   "execution_count": 160,
   "metadata": {},
   "outputs": [
    {
     "output_type": "execute_result",
     "data": {
      "text/plain": [
       "(5000, 25)"
      ]
     },
     "metadata": {},
     "execution_count": 160
    }
   ],
   "source": [
    "z2 = a1 @ theta1.T\n",
    "z2.shape"
   ]
  },
  {
   "cell_type": "code",
   "execution_count": 161,
   "metadata": {},
   "outputs": [],
   "source": [
    "z2 = np.insert(z2 , 0 ,values = np.ones(z2.shape[0]) , axis = 1)"
   ]
  },
  {
   "cell_type": "code",
   "execution_count": 162,
   "metadata": {},
   "outputs": [
    {
     "output_type": "execute_result",
     "data": {
      "text/plain": [
       "(5000, 26)"
      ]
     },
     "metadata": {},
     "execution_count": 162
    }
   ],
   "source": [
    "a2 = sigmoid(z2)\n",
    "a2.shape"
   ]
  },
  {
   "cell_type": "code",
   "execution_count": 163,
   "metadata": {},
   "outputs": [
    {
     "output_type": "execute_result",
     "data": {
      "text/plain": [
       "(5000, 10)"
      ]
     },
     "metadata": {},
     "execution_count": 163
    }
   ],
   "source": [
    "z3 = a2 @ theta2.T \n",
    "z3.shape"
   ]
  },
  {
   "cell_type": "code",
   "execution_count": 164,
   "metadata": {},
   "outputs": [
    {
     "output_type": "execute_result",
     "data": {
      "text/plain": [
       "array([[1.38245045e-04, 2.05540079e-03, 3.04012453e-03, ...,\n",
       "        4.91017499e-04, 7.74325818e-03, 9.96229459e-01],\n",
       "       [5.87756717e-04, 2.85026516e-03, 4.14687943e-03, ...,\n",
       "        2.92311247e-03, 2.35616705e-03, 9.96196668e-01],\n",
       "       [1.08683616e-04, 3.82659802e-03, 3.05855129e-02, ...,\n",
       "        7.51453949e-02, 6.57039547e-03, 9.35862781e-01],\n",
       "       ...,\n",
       "       [6.27824726e-02, 4.50406476e-03, 3.54510925e-02, ...,\n",
       "        2.63669734e-03, 6.89448164e-01, 2.74369466e-05],\n",
       "       [1.01908736e-03, 7.34360211e-04, 3.78558700e-04, ...,\n",
       "        1.45616578e-02, 9.75989758e-01, 2.33374461e-04],\n",
       "       [5.90807037e-05, 5.41717668e-04, 2.58968308e-05, ...,\n",
       "        7.00508308e-03, 7.32814653e-01, 9.16696059e-02]])"
      ]
     },
     "metadata": {},
     "execution_count": 164
    }
   ],
   "source": [
    "a3 = sigmoid(z3)\n",
    "a3"
   ]
  },
  {
   "cell_type": "code",
   "execution_count": 165,
   "metadata": {},
   "outputs": [
    {
     "output_type": "execute_result",
     "data": {
      "text/plain": [
       "(5000,)"
      ]
     },
     "metadata": {},
     "execution_count": 165
    }
   ],
   "source": [
    "y_pred = np.argmax(a3, axis=1) + 1  # numpy is 0 base index, +1 for matlab convention，返回沿轴axis最大值的索引，axis=1代表行\n",
    "y_pred.shape"
   ]
  },
  {
   "cell_type": "code",
   "execution_count": 166,
   "metadata": {},
   "outputs": [
    {
     "output_type": "stream",
     "name": "stdout",
     "text": [
      "              precision    recall  f1-score   support\n\n           1       0.97      0.98      0.97       500\n           2       0.98      0.97      0.97       500\n           3       0.98      0.96      0.97       500\n           4       0.97      0.97      0.97       500\n           5       0.98      0.98      0.98       500\n           6       0.97      0.99      0.98       500\n           7       0.98      0.97      0.97       500\n           8       0.98      0.98      0.98       500\n           9       0.97      0.96      0.96       500\n          10       0.98      0.99      0.99       500\n\n    accuracy                           0.98      5000\n   macro avg       0.98      0.98      0.98      5000\nweighted avg       0.98      0.98      0.98      5000\n\n"
     ]
    }
   ],
   "source": [
    "print(classification_report(y, y_pred))"
   ]
  }
 ]
}