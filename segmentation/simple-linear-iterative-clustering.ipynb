{
 "metadata": {
  "language_info": {
   "codemirror_mode": {
    "name": "ipython",
    "version": 3
   },
   "file_extension": ".py",
   "mimetype": "text/x-python",
   "name": "python",
   "nbconvert_exporter": "python",
   "pygments_lexer": "ipython3",
   "version": 3
  },
  "orig_nbformat": 2
 },
 "nbformat": 4,
 "nbformat_minor": 2,
 "cells": [
  {
   "source": [
    "# 简单线性迭代聚类\n",
    "\n",
    "本节讨论生成超像素的一种算法，即简单线性迭代聚类(SLIC)。与其他超像素技术相比具有计算优势和其他性能优势。SILC是对k-means算法的一种改进。SLIC观测通常使用（但不限于）包含三个颜色分量和两个空间坐标的五维向量。例如正在使用RGB彩色系统，那么与图像像素相关的五维向量为：\n",
    "$$\n",
    "    z = \\begin{bmatrix} r \\\\ g \\\\b \\\\ x\\\\ y \\end{bmatrix}\n",
    "$$\n",
    "\n",
    "式中。（r,g,b）是像素的三个颜色的分量，（x，y）是像素的两个空间坐标。令\n",
    "$n_{sp}$是所需要的超像素个数，$n_{tp}$是图像中的像素总数。初始的超像素中心$m_i = [r_i,g_i,b_i,x_i,y_i]^T$, $i = 1 ,2,...,n_{sp}$是对图像以间距s个单位的规则网格取样得到的。为了生成大小近似相等的超像素，选择网格间距 $s = [n_{tp} / n_{sp}] ^ {1/2}$。为了防止在图像边缘对超像素的中心化，并减少从噪声点开始的机会，将初始聚类中心移到每个中心周围的 $ 3 \\times 3 $领域的最小梯度位置。"
   ],
   "cell_type": "markdown",
   "metadata": {}
  },
  {
   "source": [
    "## SLIC算法由以下步骤组成\n",
    "\n",
    "1. 初始化算法：以规则网格步长 $s$对图像采样，计算初始的超像素聚类中心\n",
    "$$\n",
    "    m_i = [r_i , g_i,b_i,x_i,y_i]^T,i=1,2,3...n_{sp}\n",
    "$$\n",
    "将聚类中型移动至 $3 \\times 3$领域中最小梯度位置。对于像素中的每个像素位置p ， 设置标签 $L(p) = -1$ 和距离 $d(p) = \\infty$\n",
    "\n",
    "2. 将样本分配给聚类中心：对，每个聚类中心$m_i , i = 1,2,...,n_{sp}$ ,在一个关于$ m_i $的 $ 2s \\times 2s $领域中，计算 $ m_i $与每个像素 $p$之间的距离$D_i(p)$。然后，对每个$p$和$i = 1, 2 , ...,n_{sp}$,诺$D_i < d(p) $,则令$d(p) = D_i$和 $L(p) = i$\n",
    "\n",
    "3. 更新聚类中心：令$C_i$表示图像中具有标记$L(p)=i$的像素集。更新$m_i$:\n",
    "$$\n",
    "    m_i = \\frac{1}{|C_i|} \\sum_{z \\in C_i}z , i = 1,2,...,n_{sp}\n",
    "$$\n",
    "\n",
    "4. 收敛性检验：计算当前步骤和前述步骤中平均向量之间的差的欧几里德范数。计算残差E，即$n_{sp}$个范数值和。诺$E<T$,其中T是一个规定的非负阈值。则进入步骤5，否则进入步骤2\n",
    "\n",
    "5. 后处理像素区域：将每个区域$C_i$中的所有超像素替换为他们的平均值$m_i$。"
   ],
   "cell_type": "markdown",
   "metadata": {}
  }
 ]
}